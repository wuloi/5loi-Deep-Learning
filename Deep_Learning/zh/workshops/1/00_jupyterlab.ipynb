{
 "cells": [
  {
   "cell_type": "markdown",
   "metadata": {},
   "source": [
    "<center><a href=\"https://5loi.com/about_loi\"><img src=\"images/DLI_Header.png\" width=\"400\" height=\"186\" /></a></center>"
   ]
  },
  {
   "cell_type": "markdown",
   "metadata": {},
   "source": [
    "# JupyterLab\n",
    "在此动手实验室中，我们将使用 [JupyterLab](https://jupyterlab.readthedocs.io/en/stable/) 管理我们的实验环境。[JupyterLab 界面](https://jupyterlab.readthedocs.io/en/stable/user/interface.html) 是一个控制面板，使您可以进入交互式的iPython notebook，并可提供本实验环境使用的文件目录，以及进入 Ubuntu 操作系统的终端窗口。在您看到的第一个视图中，顶部是一个**菜单栏**，**左侧栏**显示有**文件浏览器**，另外就是**主工作区**，它的初始内容是“Launcher”（启动程序）页面。\n",
    "\n",
    "<img src=\"images/jl_launcher.png\">\n",
    "\n",
    "您可在文件浏览器上进行操作，就像使用其它的文件浏览器一样。双击任何项目都会打开包含该项目内容的一个新选项卡。\n",
    "\n",
    "主工作区包括已打开的文件的选项卡视图，您可根据需要关闭、移动和编辑这些文件。\n",
    "\n",
    "notebook（包括此 notebook）由一系列内容和代码**单元**组成。如要执行代码单元中的代码，请在该单元被选中时，按 `Shift+Enter` 或上方菜单栏中的“运行”按钮。有时，系统会将内容单元切换为编辑模式，按 `Shift+Enter` 即可切换回阅读模式。\n",
    "\n",
    "尝试执行下方单元中的一条简单的 print 语句。"
   ]
  },
  {
   "cell_type": "code",
   "execution_count": 1,
   "metadata": {},
   "outputs": [
    {
     "name": "stdout",
     "output_type": "stream",
     "text": [
      "This is just a simple print statement\n"
     ]
    }
   ],
   "source": [
    "# Highlight this cell and click [Shift+Enter] to execute\n",
    "print('This is just a simple print statement')"
   ]
  },
  {
   "cell_type": "markdown",
   "metadata": {},
   "source": [
    "## 清理GPU内存"
   ]
  },
  {
   "cell_type": "markdown",
   "metadata": {},
   "source": [
    "有时，您将需要清理GPU内存，目的是或者在实验出错时重置GPU状态，或者在笔记本之间需要全新的练习集时重新设置GPU的状态。\n",
    "\n",
    "有两种清理GPU内存的主要方法。第一种是使用笔记本电脑正上方菜单上的⟳按钮。现在单击它，您将看到提示询问是否可以重置GPU内存。\n",
    "\n",
    "第二种方法是通过一个代码单元，我们将在每个笔记本的末尾为您提供。以下是这些单元之一，您可以运行这些单元以养成正确的习惯。"
   ]
  },
  {
   "cell_type": "code",
   "execution_count": 2,
   "metadata": {},
   "outputs": [
    {
     "data": {
      "text/plain": [
       "{'status': 'ok', 'restart': True}"
      ]
     },
     "execution_count": 2,
     "metadata": {},
     "output_type": "execute_result"
    }
   ],
   "source": [
    "import IPython\n",
    "app = IPython.Application.instance()\n",
    "app.kernel.do_shutdown(True)"
   ]
  },
  {
   "cell_type": "markdown",
   "metadata": {},
   "source": [
    "## 下一步"
   ]
  },
  {
   "cell_type": "markdown",
   "metadata": {},
   "source": [
    "现在您已经熟悉了这个交互式环境，在下一部分中，您将执行深度学习的“ hello world”练习，即训练神经网络对手写体数字进行图像分类。"
   ]
  }
 ],
 "metadata": {
  "kernelspec": {
   "display_name": "Python 3 (ipykernel)",
   "language": "python",
   "name": "python3"
  },
  "language_info": {
   "codemirror_mode": {
    "name": "ipython",
    "version": 3
   },
   "file_extension": ".py",
   "mimetype": "text/x-python",
   "name": "python",
   "nbconvert_exporter": "python",
   "pygments_lexer": "ipython3",
   "version": "3.10.12"
  }
 },
 "nbformat": 4,
 "nbformat_minor": 4
}
